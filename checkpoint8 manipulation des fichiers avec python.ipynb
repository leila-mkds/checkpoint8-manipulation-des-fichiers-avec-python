{
 "cells": [
  {
   "cell_type": "code",
   "execution_count": 1,
   "id": "a51728b7",
   "metadata": {},
   "outputs": [
    {
     "data": {
      "text/plain": [
       "'What is Python language?                                                \\nPython is a widely used high-level, general-purpose, interpreted, dynamic programming language.Its design philosophy emphasizes code readability, and its syntax allows programmers to express concepts in fewer lines of code than possible in \\nlanguages such as C++ or Java. \\nPython supports multiple programming paradigms, including object-oriented, imperative and functional programming or procedural styles. It features a dynamic type system and automatic memory management and has a large and comprehensive standard library.The best way we learn anything is by practice and exercise questions. We  have started this section for those (beginner to intermediate) who are familiar with Python.'"
      ]
     },
     "execution_count": 1,
     "metadata": {},
     "output_type": "execute_result"
    }
   ],
   "source": [
    "#question1: Write a Python program to read an entire text file.\n",
    "f=open(\"python.txt\",\"r\")\n",
    "f.read()"
   ]
  },
  {
   "cell_type": "code",
   "execution_count": 2,
   "id": "1ed53349",
   "metadata": {},
   "outputs": [
    {
     "name": "stdout",
     "output_type": "stream",
     "text": [
      "x= 2\n",
      "['What is Python language?                                                \\n', 'Python is a widely used high-level, general-purpose, interpreted, dynamic programming language.Its design philosophy emphasizes code readability, and its syntax allows programmers to express concepts in fewer lines of code than possible in \\n']\n",
      "[]\n"
     ]
    }
   ],
   "source": [
    "#question2: Write a Python program to read the first n lines of a file.\n",
    "f = open('python.txt', 'r')\n",
    "x=int(input('x= '))\n",
    "for i in range (int(x)):\n",
    "    line=f.readlines()[:x]\n",
    "    print(line)"
   ]
  },
  {
   "cell_type": "code",
   "execution_count": 3,
   "id": "1ab9cf4c",
   "metadata": {},
   "outputs": [
    {
     "name": "stdout",
     "output_type": "stream",
     "text": [
      "x= 2\n",
      "['languages such as C++ or Java. \\n', 'Python supports multiple programming paradigms, including object-oriented, imperative and functional programming or procedural styles. It features a dynamic type system and automatic memory management and has a large and comprehensive standard library.The best way we learn anything is by practice and exercise questions. We  have started this section for those (beginner to intermediate) who are familiar with Python.']\n"
     ]
    }
   ],
   "source": [
    "#Question3: Write a Python program to read the last n lines of a file\n",
    "file = open(\"python.txt\", \"r\") \n",
    "x=int(input('x= '))\n",
    "lines = file. readlines()\n",
    "last_lines = lines[-x:]\n",
    "print(last_lines)"
   ]
  },
  {
   "cell_type": "code",
   "execution_count": 4,
   "id": "77b83233",
   "metadata": {},
   "outputs": [
    {
     "name": "stdout",
     "output_type": "stream",
     "text": [
      "This file contains: 96 words\n",
      "\n",
      "['Python', 'is', 'a', 'widely', 'used', 'high-level,', 'general-purpose,', 'interpreted,', 'dynamic', 'programming', 'language.Its', 'design', 'philosophy', 'emphasizes', 'code', 'readability,', 'and', 'its', 'syntax', 'allows', 'programmers', 'to', 'express', 'concepts', 'in', 'fewer', 'lines', 'of', 'code', 'than', 'possible', 'in', 'languages', 'such', 'as', 'C++', 'or', 'Java.', 'Python', 'supports', 'multiple', 'programming', 'paradigms,', 'including', 'object-oriented,', 'imperative', 'and', 'functional', 'programming', 'or', 'procedural', 'styles.', 'It', 'features', 'a', 'dynamic', 'type', 'system', 'and', 'automatic', 'memory', 'management', 'and', 'has', 'a', 'large', 'and', 'comprehensive', 'standard', 'library.The', 'best', 'way', 'we', 'learn', 'anything', 'is', 'by', 'practice', 'and', 'exercise', 'questions.', 'We', 'have', 'started', 'this', 'section', 'for', 'those', '(beginner', 'to', 'intermediate)', 'who', 'are', 'familiar', 'with', 'Python.']\n"
     ]
    }
   ],
   "source": [
    "# Question4: Write a Python program that takes a text file as input and returns the number of words of a given text file\n",
    "f= open(\"python.txt\",\"r\")\n",
    "count=0\n",
    "for i in f :\n",
    "    i=f.read()\n",
    "    words= i.split()\n",
    "    count += len(words)\n",
    "f.close()\n",
    "print(\"This file contains:\",count,\"words\\n\")\n",
    "print(words) # why 96 ??"
   ]
  },
  {
   "cell_type": "code",
   "execution_count": 5,
   "id": "9ea6c656",
   "metadata": {},
   "outputs": [
    {
     "name": "stdout",
     "output_type": "stream",
     "text": [
      "This file contains: 100 words\n",
      "\n",
      "['What', 'is', 'Python', 'language?', 'Python', 'is', 'a', 'widely', 'used', 'high-level,', 'general-purpose,', 'interpreted,', 'dynamic', 'programming', 'language.Its', 'design', 'philosophy', 'emphasizes', 'code', 'readability,', 'and', 'its', 'syntax', 'allows', 'programmers', 'to', 'express', 'concepts', 'in', 'fewer', 'lines', 'of', 'code', 'than', 'possible', 'in', 'languages', 'such', 'as', 'C++', 'or', 'Java.', 'Python', 'supports', 'multiple', 'programming', 'paradigms,', 'including', 'object-oriented,', 'imperative', 'and', 'functional', 'programming', 'or', 'procedural', 'styles.', 'It', 'features', 'a', 'dynamic', 'type', 'system', 'and', 'automatic', 'memory', 'management', 'and', 'has', 'a', 'large', 'and', 'comprehensive', 'standard', 'library.The', 'best', 'way', 'we', 'learn', 'anything', 'is', 'by', 'practice', 'and', 'exercise', 'questions.', 'We', 'have', 'started', 'this', 'section', 'for', 'those', '(beginner', 'to', 'intermediate)', 'who', 'are', 'familiar', 'with', 'Python.']\n"
     ]
    }
   ],
   "source": [
    "f= open(\"python.txt\",\"r\")\n",
    "s=f.read()\n",
    "words=s.split()\n",
    "num= len(words)\n",
    "f.close()\n",
    "print(\"This file contains:\",num,\"words\\n\")\n",
    "print(words)"
   ]
  },
  {
   "cell_type": "code",
   "execution_count": null,
   "id": "94f594b8",
   "metadata": {},
   "outputs": [],
   "source": []
  }
 ],
 "metadata": {
  "kernelspec": {
   "display_name": "Python 3 (ipykernel)",
   "language": "python",
   "name": "python3"
  },
  "language_info": {
   "codemirror_mode": {
    "name": "ipython",
    "version": 3
   },
   "file_extension": ".py",
   "mimetype": "text/x-python",
   "name": "python",
   "nbconvert_exporter": "python",
   "pygments_lexer": "ipython3",
   "version": "3.9.12"
  }
 },
 "nbformat": 4,
 "nbformat_minor": 5
}
